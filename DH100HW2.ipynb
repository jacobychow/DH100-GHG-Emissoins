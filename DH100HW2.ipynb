{
  "nbformat": 4,
  "nbformat_minor": 0,
  "metadata": {
    "kernelspec": {
      "language": "python",
      "display_name": "Python 3",
      "name": "python3"
    },
    "language_info": {
      "name": "python",
      "version": "3.7.10",
      "mimetype": "text/x-python",
      "codemirror_mode": {
        "name": "ipython",
        "version": 3
      },
      "pygments_lexer": "ipython3",
      "nbconvert_exporter": "python",
      "file_extension": ".py"
    },
    "colab": {
      "name": "DH100HW2.ipynb",
      "provenance": [],
      "collapsed_sections": []
    }
  },
  "cells": [
    {
      "cell_type": "code",
      "metadata": {
        "_uuid": "8f2839f25d086af736a60e9eeb907d3b93b6e0e5",
        "_cell_guid": "b1076dfc-b9ad-4769-8c92-a6c4dae69d19",
        "execution": {
          "iopub.status.busy": "2021-05-31T04:31:44.950731Z",
          "iopub.execute_input": "2021-05-31T04:31:44.951091Z",
          "iopub.status.idle": "2021-05-31T04:31:44.961484Z",
          "shell.execute_reply.started": "2021-05-31T04:31:44.951061Z",
          "shell.execute_reply": "2021-05-31T04:31:44.960727Z"
        },
        "trusted": true,
        "id": "dmFOSeKmRKWo"
      },
      "source": [
        "# This Python 3 environment comes with many helpful analytics libraries installed\n",
        "# It is defined by the kaggle/python Docker image: https://github.com/kaggle/docker-python\n",
        "# For example, here's several helpful packages to load\n",
        "\n",
        "import numpy as np # linear algebra\n",
        "import pandas as pd # data processing, CSV file I/O (e.g. pd.read_csv)\n",
        "\n",
        "# Input data files are available in the read-only \"../input/\" directory\n",
        "# For example, running this (by clicking run or pressing Shift+Enter) will list all files under the input directory\n",
        "\n",
        "import os\n",
        "for dirname, _, filenames in os.walk('/kaggle/input'):\n",
        "    for filename in filenames:\n",
        "        print(os.path.join(dirname, filename))\n",
        "\n",
        "# You can write up to 20GB to the current directory (/kaggle/working/) that gets preserved as output when you create a version using \"Save & Run All\" \n",
        "# You can also write temporary files to /kaggle/temp/, but they won't be saved outside of the current session"
      ],
      "execution_count": 3,
      "outputs": []
    },
    {
      "cell_type": "markdown",
      "metadata": {
        "id": "8WjYxC3hf2N_"
      },
      "source": [
        "The cell above imports the necessary libaries and programs."
      ]
    },
    {
      "cell_type": "code",
      "metadata": {
        "execution": {
          "iopub.status.busy": "2021-05-31T04:31:44.962787Z",
          "iopub.execute_input": "2021-05-31T04:31:44.963256Z",
          "iopub.status.idle": "2021-05-31T04:31:44.999189Z",
          "shell.execute_reply.started": "2021-05-31T04:31:44.963224Z",
          "shell.execute_reply": "2021-05-31T04:31:44.998501Z"
        },
        "trusted": true,
        "colab": {
          "base_uri": "https://localhost:8080/",
          "height": 204
        },
        "id": "YlcipPJhRKWs",
        "outputId": "aa504792-a6a4-4118-a10b-f65e13e53813"
      },
      "source": [
        "import pandas as pd\n",
        "CO2 = \"/co2_emission.csv\"\n",
        "table = pd.read_csv(CO2)\n",
        "table.head()"
      ],
      "execution_count": 4,
      "outputs": [
        {
          "output_type": "execute_result",
          "data": {
            "text/html": [
              "<div>\n",
              "<style scoped>\n",
              "    .dataframe tbody tr th:only-of-type {\n",
              "        vertical-align: middle;\n",
              "    }\n",
              "\n",
              "    .dataframe tbody tr th {\n",
              "        vertical-align: top;\n",
              "    }\n",
              "\n",
              "    .dataframe thead th {\n",
              "        text-align: right;\n",
              "    }\n",
              "</style>\n",
              "<table border=\"1\" class=\"dataframe\">\n",
              "  <thead>\n",
              "    <tr style=\"text-align: right;\">\n",
              "      <th></th>\n",
              "      <th>Entity</th>\n",
              "      <th>Code</th>\n",
              "      <th>Year</th>\n",
              "      <th>Annual CO₂ emissions (tonnes )</th>\n",
              "    </tr>\n",
              "  </thead>\n",
              "  <tbody>\n",
              "    <tr>\n",
              "      <th>0</th>\n",
              "      <td>Afghanistan</td>\n",
              "      <td>AFG</td>\n",
              "      <td>1949</td>\n",
              "      <td>14656.0</td>\n",
              "    </tr>\n",
              "    <tr>\n",
              "      <th>1</th>\n",
              "      <td>Afghanistan</td>\n",
              "      <td>AFG</td>\n",
              "      <td>1950</td>\n",
              "      <td>84272.0</td>\n",
              "    </tr>\n",
              "    <tr>\n",
              "      <th>2</th>\n",
              "      <td>Afghanistan</td>\n",
              "      <td>AFG</td>\n",
              "      <td>1951</td>\n",
              "      <td>91600.0</td>\n",
              "    </tr>\n",
              "    <tr>\n",
              "      <th>3</th>\n",
              "      <td>Afghanistan</td>\n",
              "      <td>AFG</td>\n",
              "      <td>1952</td>\n",
              "      <td>91600.0</td>\n",
              "    </tr>\n",
              "    <tr>\n",
              "      <th>4</th>\n",
              "      <td>Afghanistan</td>\n",
              "      <td>AFG</td>\n",
              "      <td>1953</td>\n",
              "      <td>106256.0</td>\n",
              "    </tr>\n",
              "  </tbody>\n",
              "</table>\n",
              "</div>"
            ],
            "text/plain": [
              "        Entity Code  Year  Annual CO₂ emissions (tonnes )\n",
              "0  Afghanistan  AFG  1949                         14656.0\n",
              "1  Afghanistan  AFG  1950                         84272.0\n",
              "2  Afghanistan  AFG  1951                         91600.0\n",
              "3  Afghanistan  AFG  1952                         91600.0\n",
              "4  Afghanistan  AFG  1953                        106256.0"
            ]
          },
          "metadata": {
            "tags": []
          },
          "execution_count": 4
        }
      ]
    },
    {
      "cell_type": "markdown",
      "metadata": {
        "id": "K2vCM7s8gCqu"
      },
      "source": [
        "Importing the CO2 emissions data set, which is sorted by country for various year, and assigning it to \"table\"."
      ]
    },
    {
      "cell_type": "code",
      "metadata": {
        "execution": {
          "iopub.status.busy": "2021-05-31T04:31:45.000662Z",
          "iopub.execute_input": "2021-05-31T04:31:45.001125Z",
          "iopub.status.idle": "2021-05-31T04:31:45.01957Z",
          "shell.execute_reply.started": "2021-05-31T04:31:45.001095Z",
          "shell.execute_reply": "2021-05-31T04:31:45.018842Z"
        },
        "trusted": true,
        "id": "mZuYIgYeRKWs",
        "colab": {
          "base_uri": "https://localhost:8080/",
          "height": 419
        },
        "outputId": "63765879-0f0f-4ff9-cf50-b2b3678c20df"
      },
      "source": [
        "tble = table[table['Entity'] == 'United States']\n",
        "tble"
      ],
      "execution_count": 5,
      "outputs": [
        {
          "output_type": "execute_result",
          "data": {
            "text/html": [
              "<div>\n",
              "<style scoped>\n",
              "    .dataframe tbody tr th:only-of-type {\n",
              "        vertical-align: middle;\n",
              "    }\n",
              "\n",
              "    .dataframe tbody tr th {\n",
              "        vertical-align: top;\n",
              "    }\n",
              "\n",
              "    .dataframe thead th {\n",
              "        text-align: right;\n",
              "    }\n",
              "</style>\n",
              "<table border=\"1\" class=\"dataframe\">\n",
              "  <thead>\n",
              "    <tr style=\"text-align: right;\">\n",
              "      <th></th>\n",
              "      <th>Entity</th>\n",
              "      <th>Code</th>\n",
              "      <th>Year</th>\n",
              "      <th>Annual CO₂ emissions (tonnes )</th>\n",
              "    </tr>\n",
              "  </thead>\n",
              "  <tbody>\n",
              "    <tr>\n",
              "      <th>19661</th>\n",
              "      <td>United States</td>\n",
              "      <td>USA</td>\n",
              "      <td>1751</td>\n",
              "      <td>0.000000e+00</td>\n",
              "    </tr>\n",
              "    <tr>\n",
              "      <th>19662</th>\n",
              "      <td>United States</td>\n",
              "      <td>USA</td>\n",
              "      <td>1752</td>\n",
              "      <td>0.000000e+00</td>\n",
              "    </tr>\n",
              "    <tr>\n",
              "      <th>19663</th>\n",
              "      <td>United States</td>\n",
              "      <td>USA</td>\n",
              "      <td>1753</td>\n",
              "      <td>0.000000e+00</td>\n",
              "    </tr>\n",
              "    <tr>\n",
              "      <th>19664</th>\n",
              "      <td>United States</td>\n",
              "      <td>USA</td>\n",
              "      <td>1754</td>\n",
              "      <td>0.000000e+00</td>\n",
              "    </tr>\n",
              "    <tr>\n",
              "      <th>19665</th>\n",
              "      <td>United States</td>\n",
              "      <td>USA</td>\n",
              "      <td>1755</td>\n",
              "      <td>0.000000e+00</td>\n",
              "    </tr>\n",
              "    <tr>\n",
              "      <th>...</th>\n",
              "      <td>...</td>\n",
              "      <td>...</td>\n",
              "      <td>...</td>\n",
              "      <td>...</td>\n",
              "    </tr>\n",
              "    <tr>\n",
              "      <th>19923</th>\n",
              "      <td>United States</td>\n",
              "      <td>USA</td>\n",
              "      <td>2013</td>\n",
              "      <td>5.519613e+09</td>\n",
              "    </tr>\n",
              "    <tr>\n",
              "      <th>19924</th>\n",
              "      <td>United States</td>\n",
              "      <td>USA</td>\n",
              "      <td>2014</td>\n",
              "      <td>5.568759e+09</td>\n",
              "    </tr>\n",
              "    <tr>\n",
              "      <th>19925</th>\n",
              "      <td>United States</td>\n",
              "      <td>USA</td>\n",
              "      <td>2015</td>\n",
              "      <td>5.420804e+09</td>\n",
              "    </tr>\n",
              "    <tr>\n",
              "      <th>19926</th>\n",
              "      <td>United States</td>\n",
              "      <td>USA</td>\n",
              "      <td>2016</td>\n",
              "      <td>5.310861e+09</td>\n",
              "    </tr>\n",
              "    <tr>\n",
              "      <th>19927</th>\n",
              "      <td>United States</td>\n",
              "      <td>USA</td>\n",
              "      <td>2017</td>\n",
              "      <td>5.269530e+09</td>\n",
              "    </tr>\n",
              "  </tbody>\n",
              "</table>\n",
              "<p>267 rows × 4 columns</p>\n",
              "</div>"
            ],
            "text/plain": [
              "              Entity Code  Year  Annual CO₂ emissions (tonnes )\n",
              "19661  United States  USA  1751                    0.000000e+00\n",
              "19662  United States  USA  1752                    0.000000e+00\n",
              "19663  United States  USA  1753                    0.000000e+00\n",
              "19664  United States  USA  1754                    0.000000e+00\n",
              "19665  United States  USA  1755                    0.000000e+00\n",
              "...              ...  ...   ...                             ...\n",
              "19923  United States  USA  2013                    5.519613e+09\n",
              "19924  United States  USA  2014                    5.568759e+09\n",
              "19925  United States  USA  2015                    5.420804e+09\n",
              "19926  United States  USA  2016                    5.310861e+09\n",
              "19927  United States  USA  2017                    5.269530e+09\n",
              "\n",
              "[267 rows x 4 columns]"
            ]
          },
          "metadata": {
            "tags": []
          },
          "execution_count": 5
        }
      ]
    },
    {
      "cell_type": "markdown",
      "metadata": {
        "id": "0J1q4H5Sg3MF"
      },
      "source": [
        "Isolating the CO2 emissions data in table format only for the United States and assigning it to \"tble\"."
      ]
    },
    {
      "cell_type": "code",
      "metadata": {
        "execution": {
          "iopub.status.busy": "2021-05-31T04:31:45.020721Z",
          "iopub.execute_input": "2021-05-31T04:31:45.02113Z",
          "iopub.status.idle": "2021-05-31T04:31:45.033901Z",
          "shell.execute_reply.started": "2021-05-31T04:31:45.021101Z",
          "shell.execute_reply": "2021-05-31T04:31:45.032921Z"
        },
        "trusted": true,
        "colab": {
          "base_uri": "https://localhost:8080/"
        },
        "id": "rk4nUK2RRKWt",
        "outputId": "0fbc2037-bac4-40d4-b4d9-1f8516da9ffa"
      },
      "source": [
        "pd.plotting.register_matplotlib_converters()\n",
        "import matplotlib.pyplot as plt\n",
        "%matplotlib inline\n",
        "import seaborn as sns\n",
        "print(\"Setup Complete\")"
      ],
      "execution_count": 6,
      "outputs": [
        {
          "output_type": "stream",
          "text": [
            "Setup Complete\n"
          ],
          "name": "stdout"
        }
      ]
    },
    {
      "cell_type": "markdown",
      "metadata": {
        "id": "VXrxvyCwhODB"
      },
      "source": [
        "Importing the libraries necessary for plotting graphs."
      ]
    },
    {
      "cell_type": "code",
      "metadata": {
        "execution": {
          "iopub.status.busy": "2021-05-31T04:31:45.035038Z",
          "iopub.execute_input": "2021-05-31T04:31:45.035506Z",
          "iopub.status.idle": "2021-05-31T04:31:49.241956Z",
          "shell.execute_reply.started": "2021-05-31T04:31:45.035476Z",
          "shell.execute_reply": "2021-05-31T04:31:49.240893Z"
        },
        "trusted": true,
        "colab": {
          "base_uri": "https://localhost:8080/",
          "height": 367
        },
        "id": "pfGAaWpTRKWt",
        "outputId": "b0222fc0-2450-477a-a4bb-c5bbbab76761"
      },
      "source": [
        "plt.figure(figsize=(10,5))\n",
        "plt.title(\"Annual CO2 Emissions in the USA\")\n",
        "sns.barplot(x=tble['Year'], y=tble['Annual CO₂ emissions (tonnes )'])\n",
        "plt.ylabel(\"Annual CO₂ emissions (tonnes )\")"
      ],
      "execution_count": 7,
      "outputs": [
        {
          "output_type": "execute_result",
          "data": {
            "text/plain": [
              "Text(0, 0.5, 'Annual CO₂ emissions (tonnes )')"
            ]
          },
          "metadata": {
            "tags": []
          },
          "execution_count": 7
        },
        {
          "output_type": "display_data",
          "data": {
            "image/png": "[encoded data removed]",
            "text/plain": [
              "<Figure size 720x360 with 1 Axes>"
            ]
          },
          "metadata": {
            "tags": [],
            "needs_background": "light"
          }
        }
      ]
    },
    {
      "cell_type": "markdown",
      "metadata": {
        "id": "H8mnYykPjY2E"
      },
      "source": [
        "Plotting the isolated CO2 emissions data for the United States from the previous code cell labeled \"tble\". The coloration is random and has no significance."
      ]
    },
    {
      "cell_type": "code",
      "metadata": {
        "execution": {
          "iopub.status.busy": "2021-05-31T04:33:42.78375Z",
          "iopub.execute_input": "2021-05-31T04:33:42.784194Z",
          "iopub.status.idle": "2021-05-31T04:33:46.41215Z",
          "shell.execute_reply.started": "2021-05-31T04:33:42.78416Z",
          "shell.execute_reply": "2021-05-31T04:33:46.410819Z"
        },
        "trusted": true,
        "id": "bp3Wjm8MRKWu",
        "colab": {
          "base_uri": "https://localhost:8080/",
          "height": 419
        },
        "outputId": "a36c1a87-dcb6-4463-a9ba-ed28c858985c"
      },
      "source": [
        "tbl = table[table['Year'] == 2017].sort_values(by='Annual CO₂ emissions (tonnes )', ascending=False).drop(index = 20619, columns= ['Code','Year'])\n",
        "tbl"
      ],
      "execution_count": 8,
      "outputs": [
        {
          "output_type": "execute_result",
          "data": {
            "text/html": [
              "<div>\n",
              "<style scoped>\n",
              "    .dataframe tbody tr th:only-of-type {\n",
              "        vertical-align: middle;\n",
              "    }\n",
              "\n",
              "    .dataframe tbody tr th {\n",
              "        vertical-align: top;\n",
              "    }\n",
              "\n",
              "    .dataframe thead th {\n",
              "        text-align: right;\n",
              "    }\n",
              "</style>\n",
              "<table border=\"1\" class=\"dataframe\">\n",
              "  <thead>\n",
              "    <tr style=\"text-align: right;\">\n",
              "      <th></th>\n",
              "      <th>Entity</th>\n",
              "      <th>Annual CO₂ emissions (tonnes )</th>\n",
              "    </tr>\n",
              "  </thead>\n",
              "  <tbody>\n",
              "    <tr>\n",
              "      <th>4484</th>\n",
              "      <td>China</td>\n",
              "      <td>9.838754e+09</td>\n",
              "    </tr>\n",
              "    <tr>\n",
              "      <th>19927</th>\n",
              "      <td>United States</td>\n",
              "      <td>5.269530e+09</td>\n",
              "    </tr>\n",
              "    <tr>\n",
              "      <th>1517</th>\n",
              "      <td>Asia and Pacific (other)</td>\n",
              "      <td>5.071156e+09</td>\n",
              "    </tr>\n",
              "    <tr>\n",
              "      <th>6090</th>\n",
              "      <td>EU-28</td>\n",
              "      <td>3.543683e+09</td>\n",
              "    </tr>\n",
              "    <tr>\n",
              "      <th>12735</th>\n",
              "      <td>Middle East</td>\n",
              "      <td>2.671943e+09</td>\n",
              "    </tr>\n",
              "    <tr>\n",
              "      <th>...</th>\n",
              "      <td>...</td>\n",
              "      <td>...</td>\n",
              "    </tr>\n",
              "    <tr>\n",
              "      <th>12977</th>\n",
              "      <td>Montserrat</td>\n",
              "      <td>5.068175e+04</td>\n",
              "    </tr>\n",
              "    <tr>\n",
              "      <th>20352</th>\n",
              "      <td>Wallis and Futuna Islands</td>\n",
              "      <td>2.590908e+04</td>\n",
              "    </tr>\n",
              "    <tr>\n",
              "      <th>19207</th>\n",
              "      <td>Tuvalu</td>\n",
              "      <td>1.295454e+04</td>\n",
              "    </tr>\n",
              "    <tr>\n",
              "      <th>14064</th>\n",
              "      <td>Niue</td>\n",
              "      <td>1.295454e+04</td>\n",
              "    </tr>\n",
              "    <tr>\n",
              "      <th>15791</th>\n",
              "      <td>Saint Helena</td>\n",
              "      <td>1.169579e+04</td>\n",
              "    </tr>\n",
              "  </tbody>\n",
              "</table>\n",
              "<p>221 rows × 2 columns</p>\n",
              "</div>"
            ],
            "text/plain": [
              "                          Entity  Annual CO₂ emissions (tonnes )\n",
              "4484                       China                    9.838754e+09\n",
              "19927              United States                    5.269530e+09\n",
              "1517    Asia and Pacific (other)                    5.071156e+09\n",
              "6090                       EU-28                    3.543683e+09\n",
              "12735                Middle East                    2.671943e+09\n",
              "...                          ...                             ...\n",
              "12977                 Montserrat                    5.068175e+04\n",
              "20352  Wallis and Futuna Islands                    2.590908e+04\n",
              "19207                     Tuvalu                    1.295454e+04\n",
              "14064                       Niue                    1.295454e+04\n",
              "15791               Saint Helena                    1.169579e+04\n",
              "\n",
              "[221 rows x 2 columns]"
            ]
          },
          "metadata": {
            "tags": []
          },
          "execution_count": 8
        }
      ]
    },
    {
      "cell_type": "markdown",
      "metadata": {
        "id": "Q3btrEhfkbry"
      },
      "source": [
        "Isolating the CO2 emissions data for 2017 in table format, and sorting it by 'Annual CO2 emissions (tonnes)' in descedning order. I assigned this to 'tbl'. Now there is only one row for each entity whereas before, there were multple rows for each entity. This condenses the data to just one year, but allows us to visuzlize the largest CO2 emitters."
      ]
    },
    {
      "cell_type": "code",
      "metadata": {
        "colab": {
          "base_uri": "https://localhost:8080/",
          "height": 323
        },
        "id": "axXVfoCgGWte",
        "outputId": "eb4101d6-8928-4104-cdfa-1405e5826d97"
      },
      "source": [
        "tbl['Annual CO₂ emissions (tonnes )'].value_counts().head(10).plot.pie()\n",
        "plt.legend(labels= tbl['Entity'], loc= 'upper left')\n",
        "plt.axis('equal')"
      ],
      "execution_count": 9,
      "outputs": [
        {
          "output_type": "execute_result",
          "data": {
            "text/plain": [
              "(-1.100000010267615,\n",
              " 1.1000000191959676,\n",
              " -1.1037320479717772,\n",
              " 1.1037320434847966)"
            ]
          },
          "metadata": {
            "tags": []
          },
          "execution_count": 9
        },
        {
          "output_type": "display_data",
          "data": {
            "image/png": "[encoded data removed]",
            "text/plain": [
              "<Figure size 432x288 with 1 Axes>"
            ]
          },
          "metadata": {
            "tags": []
          }
        }
      ]
    },
    {
      "cell_type": "markdown",
      "metadata": {
        "id": "EE3-NiG2liUH"
      },
      "source": [
        "A visualization of the largest CO2 emitters in 2017. I used the table from the previous code cell titled 'tbl'."
      ]
    }
  ]
}